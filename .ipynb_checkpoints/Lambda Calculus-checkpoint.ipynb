{
 "cells": [
  {
   "cell_type": "markdown",
   "metadata": {},
   "source": [
    "# Booleans"
   ]
  },
  {
   "cell_type": "code",
   "execution_count": 1,
   "metadata": {},
   "outputs": [],
   "source": [
    "# True logic\n",
    "T  = lambda a: lambda b: a\n",
    "# False logic\n",
    "F = lambda a: lambda b: b\n",
    "\n",
    "# Identity function\n",
    "I = lambda a: a\n",
    "\n",
    "# this boolean AND operator takes two boolean variables and if the first one were TRUE returns the second one else if returns FALSE \n",
    "AND = lambda a: lambda b: a(b)(F)\n",
    "\n",
    "# this boolean OR operator takes two boolean variables and if the first one were TRUE returns the first one(or TRUE) else if returns the second one\n",
    "OR  = lambda a: lambda b: a(T)(b)\n",
    "\n",
    "# this boolean NOT operator takes one boolean variable and returns TRUE if the variable were FALSE and vice versa\n",
    "NOT = lambda a: a(F)(T)"
   ]
  },
  {
   "cell_type": "markdown",
   "metadata": {},
   "source": [
    "# Numbers"
   ]
  },
  {
   "cell_type": "code",
   "execution_count": 2,
   "metadata": {},
   "outputs": [],
   "source": [
    "zero  = F # False\n",
    "one   = lambda a: lambda b: a(b)\n",
    "two   = lambda a: lambda b: a(a(b))\n",
    "three = lambda a: lambda b: a(a(a(b)))\n",
    "four  = lambda a: lambda b: a(a(a(a(b))))\n",
    "five  = lambda a: lambda b: a(a(a(a(a(b)))))\n",
    "six   = lambda a: lambda b: a(a(a(a(a(a(b))))))\n",
    "seven = lambda a: lambda b: a(a(a(a(a(a(a(b)))))))\n",
    "eight = lambda a: lambda b: a(a(a(a(a(a(a(a(b))))))))\n",
    "nine  = lambda a: lambda b: a(a(a(a(a(a(a(a(a(b)))))))))\n",
    "ten   = lambda a: lambda b: a(a(a(a(a(a(a(a(a(a(b))))))))))"
   ]
  },
  {
   "cell_type": "markdown",
   "metadata": {},
   "source": [
    "# Combinators"
   ]
  },
  {
   "cell_type": "code",
   "execution_count": 3,
   "metadata": {},
   "outputs": [],
   "source": [
    "# this lambda expression is recursion idea that takes a function f and returns the same as to entry\n",
    "# I mean fixed point of a function is an input that is unchanged by that function\n",
    "# some example to clarity :\n",
    "#    \n",
    "#     Y g = g Y g = g(g(Yg)) = g(  ...  g(Yg)   ...)\n",
    "#\n",
    "\n",
    "Y = lambda f: ( (lambda x: f(lambda y: x(x)(y)) ) ( lambda x: f(lambda y: x(x)(y)) ) )"
   ]
  },
  {
   "cell_type": "markdown",
   "metadata": {},
   "source": [
    "# Inequalities"
   ]
  },
  {
   "cell_type": "code",
   "execution_count": 4,
   "metadata": {},
   "outputs": [],
   "source": [
    "# is zero operator takes a variable( or name ) and returns the entry \n",
    "# that the entry had been zero the second one selected else returns a constant \n",
    "# function that takes every thing and returns False(lambda _: F)\n",
    "is_zero    = lambda a: a(lambda _: F)(T)\n",
    "\n",
    "# notes: Less than:\n",
    "#    LT := λab. NOT (LEQ b a)\n",
    "#    Less than or equal to:\n",
    "#    LEQ := λmn. ISZERO (SUB m n)\n",
    "less_than = lambda a: lambda b: is_zero(sub(inc(a))(b))"
   ]
  },
  {
   "cell_type": "markdown",
   "metadata": {},
   "source": [
    "# Arithmetics"
   ]
  },
  {
   "cell_type": "code",
   "execution_count": 5,
   "metadata": {},
   "outputs": [],
   "source": [
    "# The successor operator (given a natural number n, calculate n+1):\n",
    "#\n",
    "#    SUCC := λnfx. f (n f x)\n",
    "#\n",
    "# the b and c are the aoxial variables that acts the zero rule in brackets\n",
    "\n",
    "inc = lambda a: lambda b: lambda c: b(a(b)(c))\n",
    "add = lambda a: lambda b: a(inc)(b)\n",
    "\n",
    "# The predecessor operator (for all n > 0, calculate n-1; for zero, return zero):\n",
    "#    \n",
    "#    PRED\t:=\tλnfx. n (λgh. h (g f)) (λu. x) (λu. u)\n",
    "\n",
    "dec = lambda a: lambda b: lambda c: a(lambda x: lambda y: y(x(b)))(lambda _: c)(I)\n",
    "sub = lambda a: lambda b: b(dec)(a)\n",
    "\n",
    "mul = lambda a: lambda b: lambda c: a(b(c))\n",
    "div = Y(\n",
    "        lambda f: lambda a: lambda b: less_than(a)(b)\n",
    "        (lambda _: zero)\n",
    "        (lambda _: inc(f(sub(a)(b))(b)))\n",
    "        (zero)\n",
    "        )\n",
    "\n",
    "Pow = lambda a: lambda b: b(a)"
   ]
  },
  {
   "cell_type": "markdown",
   "metadata": {},
   "source": [
    "# Decoding the expressions"
   ]
  },
  {
   "cell_type": "code",
   "execution_count": 6,
   "metadata": {},
   "outputs": [],
   "source": [
    "def get_number(f)-> int:\n",
    "    INC = lambda x: x+1\n",
    "    return f(INC)(0)"
   ]
  },
  {
   "cell_type": "markdown",
   "metadata": {},
   "source": [
    "# Testing the operations"
   ]
  },
  {
   "cell_type": "code",
   "execution_count": 7,
   "metadata": {},
   "outputs": [
    {
     "data": {
      "text/plain": [
       "100"
      ]
     },
     "execution_count": 7,
     "metadata": {},
     "output_type": "execute_result"
    }
   ],
   "source": [
    "get_number(mul(ten)(ten))"
   ]
  },
  {
   "cell_type": "code",
   "execution_count": 8,
   "metadata": {},
   "outputs": [
    {
     "data": {
      "text/plain": [
       "33"
      ]
     },
     "execution_count": 8,
     "metadata": {},
     "output_type": "execute_result"
    }
   ],
   "source": [
    "get_number(div(mul(ten)(ten))(three))"
   ]
  },
  {
   "cell_type": "code",
   "execution_count": 9,
   "metadata": {},
   "outputs": [
    {
     "data": {
      "text/plain": [
       "0"
      ]
     },
     "execution_count": 9,
     "metadata": {},
     "output_type": "execute_result"
    }
   ],
   "source": [
    "get_number(sub(ten)(mul(ten)(two)))"
   ]
  },
  {
   "cell_type": "code",
   "execution_count": 11,
   "metadata": {},
   "outputs": [
    {
     "data": {
      "text/plain": [
       "73"
      ]
     },
     "execution_count": 11,
     "metadata": {},
     "output_type": "execute_result"
    }
   ],
   "source": [
    "get_number(add(mul(four)(ten))(add(mul(three)(ten))(three)))"
   ]
  },
  {
   "cell_type": "code",
   "execution_count": null,
   "metadata": {},
   "outputs": [],
   "source": []
  }
 ],
 "metadata": {
  "kernelspec": {
   "display_name": "Python 3",
   "language": "python",
   "name": "python3"
  },
  "language_info": {
   "codemirror_mode": {
    "name": "ipython",
    "version": 3
   },
   "file_extension": ".py",
   "mimetype": "text/x-python",
   "name": "python",
   "nbconvert_exporter": "python",
   "pygments_lexer": "ipython3",
   "version": "3.6.5"
  }
 },
 "nbformat": 4,
 "nbformat_minor": 2
}
